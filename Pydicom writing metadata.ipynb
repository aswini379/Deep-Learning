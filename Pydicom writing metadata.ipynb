{
 "cells": [
  {
   "cell_type": "markdown",
   "metadata": {},
   "source": [
    "# Importing PyDicom Module"
   ]
  },
  {
   "cell_type": "code",
   "execution_count": 1,
   "metadata": {},
   "outputs": [],
   "source": [
    "import pydicom\n",
    "from pydicom.filereader import dcmread\n",
    "from pydicom.data import get_testdata_files\n",
    "dirname='./unnet_valid/'"
   ]
  },
  {
   "cell_type": "markdown",
   "metadata": {},
   "source": [
    "# Importing the validation dataset"
   ]
  },
  {
   "cell_type": "code",
   "execution_count": 2,
   "metadata": {},
   "outputs": [],
   "source": [
    "import pandas as pd\n",
    "df=pd.read_csv(\"valid-edemaonly.csv\")"
   ]
  },
  {
   "cell_type": "code",
   "execution_count": 3,
   "metadata": {},
   "outputs": [
    {
     "data": {
      "text/html": [
       "<div>\n",
       "<style scoped>\n",
       "    .dataframe tbody tr th:only-of-type {\n",
       "        vertical-align: middle;\n",
       "    }\n",
       "\n",
       "    .dataframe tbody tr th {\n",
       "        vertical-align: top;\n",
       "    }\n",
       "\n",
       "    .dataframe thead th {\n",
       "        text-align: right;\n",
       "    }\n",
       "</style>\n",
       "<table border=\"1\" class=\"dataframe\">\n",
       "  <thead>\n",
       "    <tr style=\"text-align: right;\">\n",
       "      <th></th>\n",
       "      <th>Unnamed: 0</th>\n",
       "      <th>Path</th>\n",
       "      <th>Sex</th>\n",
       "      <th>Age</th>\n",
       "      <th>Frontal/Lateral</th>\n",
       "      <th>AP/PA</th>\n",
       "      <th>Edema</th>\n",
       "    </tr>\n",
       "  </thead>\n",
       "  <tbody>\n",
       "    <tr>\n",
       "      <th>0</th>\n",
       "      <td>0</td>\n",
       "      <td>CheXpert-v1.0-small/valid/patient64541/study1/...</td>\n",
       "      <td>Male</td>\n",
       "      <td>73</td>\n",
       "      <td>Frontal</td>\n",
       "      <td>AP</td>\n",
       "      <td>0.0</td>\n",
       "    </tr>\n",
       "    <tr>\n",
       "      <th>1</th>\n",
       "      <td>1</td>\n",
       "      <td>CheXpert-v1.0-small/valid/patient64542/study1/...</td>\n",
       "      <td>Male</td>\n",
       "      <td>70</td>\n",
       "      <td>Frontal</td>\n",
       "      <td>PA</td>\n",
       "      <td>0.0</td>\n",
       "    </tr>\n",
       "    <tr>\n",
       "      <th>2</th>\n",
       "      <td>3</td>\n",
       "      <td>CheXpert-v1.0-small/valid/patient64543/study1/...</td>\n",
       "      <td>Male</td>\n",
       "      <td>85</td>\n",
       "      <td>Frontal</td>\n",
       "      <td>AP</td>\n",
       "      <td>1.0</td>\n",
       "    </tr>\n",
       "    <tr>\n",
       "      <th>3</th>\n",
       "      <td>4</td>\n",
       "      <td>CheXpert-v1.0-small/valid/patient64544/study1/...</td>\n",
       "      <td>Female</td>\n",
       "      <td>42</td>\n",
       "      <td>Frontal</td>\n",
       "      <td>AP</td>\n",
       "      <td>0.0</td>\n",
       "    </tr>\n",
       "    <tr>\n",
       "      <th>4</th>\n",
       "      <td>5</td>\n",
       "      <td>CheXpert-v1.0-small/valid/patient64545/study1/...</td>\n",
       "      <td>Female</td>\n",
       "      <td>55</td>\n",
       "      <td>Frontal</td>\n",
       "      <td>AP</td>\n",
       "      <td>0.0</td>\n",
       "    </tr>\n",
       "  </tbody>\n",
       "</table>\n",
       "</div>"
      ],
      "text/plain": [
       "   Unnamed: 0                                               Path     Sex  Age  \\\n",
       "0           0  CheXpert-v1.0-small/valid/patient64541/study1/...    Male   73   \n",
       "1           1  CheXpert-v1.0-small/valid/patient64542/study1/...    Male   70   \n",
       "2           3  CheXpert-v1.0-small/valid/patient64543/study1/...    Male   85   \n",
       "3           4  CheXpert-v1.0-small/valid/patient64544/study1/...  Female   42   \n",
       "4           5  CheXpert-v1.0-small/valid/patient64545/study1/...  Female   55   \n",
       "\n",
       "  Frontal/Lateral AP/PA  Edema  \n",
       "0         Frontal    AP    0.0  \n",
       "1         Frontal    PA    0.0  \n",
       "2         Frontal    AP    1.0  \n",
       "3         Frontal    AP    0.0  \n",
       "4         Frontal    AP    0.0  "
      ]
     },
     "execution_count": 3,
     "metadata": {},
     "output_type": "execute_result"
    }
   ],
   "source": [
    "df.head()"
   ]
  },
  {
   "cell_type": "markdown",
   "metadata": {},
   "source": [
    "# Assigning female and males names randomly to the images in validation folder (202 images)"
   ]
  },
  {
   "cell_type": "code",
   "execution_count": 4,
   "metadata": {},
   "outputs": [
    {
     "name": "stdout",
     "output_type": "stream",
     "text": [
      "Erica\n"
     ]
    }
   ],
   "source": [
    "male_names=['Sunny','James','John','George','Harry']\n",
    "female_names=['Kelsey','Mary','Lisa','Erica','Olivia']\n",
    "import random\n",
    "print(random.choice(female_names))"
   ]
  },
  {
   "cell_type": "code",
   "execution_count": 5,
   "metadata": {},
   "outputs": [],
   "source": [
    "import re\n",
    "\n",
    "def natural_sort(l): \n",
    "    convert = lambda text: int(text) if text.isdigit() else text.lower() \n",
    "    alphanum_key = lambda key: [ convert(c) for c in re.split('([0-9]+)', key) ] \n",
    "    return sorted(l,key = alphanum_key)"
   ]
  },
  {
   "cell_type": "markdown",
   "metadata": {},
   "source": [
    "# Adding Study Description, Patient Age, Modality, Patient Gender and Name to the images for a good presentation in OHIF Viewer"
   ]
  },
  {
   "cell_type": "code",
   "execution_count": 9,
   "metadata": {},
   "outputs": [],
   "source": [
    "import os\n",
    "import re\n",
    "from pydicom.dataelem import DataElement\n",
    "\n",
    "i=0\n",
    "for filename in natural_sort(os.listdir(dirname)):\n",
    "    if filename[0:12]=='.ipynb_check':\n",
    "        continue\n",
    "    if re.match(r\"^\"+re.escape(filename[0:12]),df.Path[i][26:38], re.I):\n",
    "        ds = dcmread(os.path.join(dirname,filename))\n",
    "        if \"StudyDescription\" not in ds.dir():\n",
    "            ds.add_new(0x00081030, 'LO', 'Chest X-Ray')\n",
    "            ds.add_new\n",
    "        if \"PatientAge\" not in ds.dir():\n",
    "            ds.add_new(0x00101010, 'AS', str(df.loc[i,'Age']))\n",
    "            ds.add_new\n",
    "        if \"Modality\" not in ds.dir():\n",
    "            ds.add_new(0x00080060, 'CS', 'X-Ray')\n",
    "            ds.add_new\n",
    "        ds.PatientID=str(filename[7:12])\n",
    "        if df.loc[i,'Sex']=='Male':\n",
    "            ds.PatientName=str(random.choice(male_names))\n",
    "            ds.PatientSex=df.loc[i,'Sex']\n",
    "        else:\n",
    "            ds.PatientName=str(random.choice(female_names))\n",
    "            ds.PatientSex=df.loc[i,'Sex']\n",
    "        ds.save_as(os.path.join('./Edited_valid_dcm',filename))\n",
    "    else:\n",
    "        print('didnot match')\n",
    "    i=i+1"
   ]
  },
  {
   "cell_type": "markdown",
   "metadata": {},
   "source": [
    "# Checking to make sure if the changes are applied accordingly"
   ]
  },
  {
   "cell_type": "code",
   "execution_count": 11,
   "metadata": {},
   "outputs": [],
   "source": [
    "#filename = get_testdata_files(\"./unnet_valid/patient64541-study1-view1_frontal.jpg.dcm\")\n",
    "ds = dcmread(\"./Edited_valid_dcm/patient64541-study1-view1_frontal.jpg.dcm\")"
   ]
  },
  {
   "cell_type": "code",
   "execution_count": 12,
   "metadata": {},
   "outputs": [
    {
     "data": {
      "text/plain": [
       "(0008, 0005) Specific Character Set              CS: 'ISO_IR 100'\n",
       "(0008, 0016) SOP Class UID                       UI: Secondary Capture Image Storage\n",
       "(0008, 0018) SOP Instance UID                    UI: 1.2.276.0.7230010.3.1.4.8323329.24087.1553621179.921042\n",
       "(0008, 0020) Study Date                          DA: ''\n",
       "(0008, 0030) Study Time                          TM: ''\n",
       "(0008, 0050) Accession Number                    SH: ''\n",
       "(0008, 0060) Modality                            CS: 'X-Ray'\n",
       "(0008, 0064) Conversion Type                     CS: 'WSD'\n",
       "(0008, 0090) Referring Physician's Name          PN: ''\n",
       "(0008, 1030) Study Description                   LO: 'Chest X-Ray'\n",
       "(0010, 0010) Patient's Name                      PN: 'George'\n",
       "(0010, 0020) Patient ID                          LO: '64541'\n",
       "(0010, 0030) Patient's Birth Date                DA: ''\n",
       "(0010, 0040) Patient's Sex                       CS: 'Male'\n",
       "(0010, 1010) Patient's Age                       AS: '73'\n",
       "(0020, 000d) Study Instance UID                  UI: 1.2.276.0.7230010.3.1.2.8323329.24087.1553621179.921041\n",
       "(0020, 000e) Series Instance UID                 UI: 1.2.276.0.7230010.3.1.3.8323329.24087.1553621179.921040\n",
       "(0020, 0010) Study ID                            SH: ''\n",
       "(0020, 0011) Series Number                       IS: ''\n",
       "(0020, 0013) Instance Number                     IS: ''\n",
       "(0020, 0020) Patient Orientation                 CS: ''\n",
       "(0028, 0002) Samples per Pixel                   US: 1\n",
       "(0028, 0004) Photometric Interpretation          CS: 'MONOCHROME2'\n",
       "(0028, 0010) Rows                                US: 320\n",
       "(0028, 0011) Columns                             US: 390\n",
       "(0028, 0100) Bits Allocated                      US: 8\n",
       "(0028, 0101) Bits Stored                         US: 8\n",
       "(0028, 0102) High Bit                            US: 7\n",
       "(0028, 0103) Pixel Representation                US: 0\n",
       "(0028, 2110) Lossy Image Compression             CS: '01'\n",
       "(0028, 2114) Lossy Image Compression Method      CS: 'ISO_10918_1'\n",
       "(7fe0, 0010) Pixel Data                          OB: Array of 46420 bytes"
      ]
     },
     "execution_count": 12,
     "metadata": {},
     "output_type": "execute_result"
    }
   ],
   "source": [
    "ds"
   ]
  }
 ],
 "metadata": {
  "kernelspec": {
   "display_name": "Python 3",
   "language": "python",
   "name": "python3"
  },
  "language_info": {
   "codemirror_mode": {
    "name": "ipython",
    "version": 3
   },
   "file_extension": ".py",
   "mimetype": "text/x-python",
   "name": "python",
   "nbconvert_exporter": "python",
   "pygments_lexer": "ipython3",
   "version": "3.6.4"
  }
 },
 "nbformat": 4,
 "nbformat_minor": 2
}
