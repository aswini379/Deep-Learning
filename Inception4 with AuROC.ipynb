{
 "cells": [
  {
   "cell_type": "markdown",
   "metadata": {},
   "source": [
    "# Importing python modules"
   ]
  },
  {
   "cell_type": "code",
   "execution_count": 31,
   "metadata": {},
   "outputs": [],
   "source": [
    "from __future__ import print_function\n",
    "from __future__ import division\n",
    "import torch\n",
    "import torch.nn as nn\n",
    "import torch.optim as optim\n",
    "import numpy as np\n",
    "import torchvision\n",
    "from torchvision import datasets, models, transforms\n",
    "import matplotlib.pyplot as plt\n",
    "import time\n",
    "import os\n",
    "import copy"
   ]
  },
  {
   "cell_type": "code",
   "execution_count": 32,
   "metadata": {},
   "outputs": [],
   "source": [
    "os.environ['CUDA_LAUNCH_BLOCKING'] = '1'"
   ]
  },
  {
   "cell_type": "markdown",
   "metadata": {},
   "source": [
    "# Importing pre-trained models on ImageNet data"
   ]
  },
  {
   "cell_type": "code",
   "execution_count": 33,
   "metadata": {},
   "outputs": [],
   "source": [
    "import pretrainedmodels"
   ]
  },
  {
   "cell_type": "code",
   "execution_count": 34,
   "metadata": {},
   "outputs": [
    {
     "name": "stdout",
     "output_type": "stream",
     "text": [
      "['fbresnet152', 'bninception', 'resnext101_32x4d', 'resnext101_64x4d', 'inceptionv4', 'inceptionresnetv2', 'alexnet', 'densenet121', 'densenet169', 'densenet201', 'densenet161', 'resnet18', 'resnet34', 'resnet50', 'resnet101', 'resnet152', 'inceptionv3', 'squeezenet1_0', 'squeezenet1_1', 'vgg11', 'vgg11_bn', 'vgg13', 'vgg13_bn', 'vgg16', 'vgg16_bn', 'vgg19_bn', 'vgg19', 'nasnetamobile', 'nasnetalarge', 'dpn68', 'dpn68b', 'dpn92', 'dpn98', 'dpn131', 'dpn107', 'xception', 'senet154', 'se_resnet50', 'se_resnet101', 'se_resnet152', 'se_resnext50_32x4d', 'se_resnext101_32x4d', 'cafferesnet101', 'pnasnet5large', 'polynet']\n"
     ]
    }
   ],
   "source": [
    "print(pretrainedmodels.model_names)"
   ]
  },
  {
   "cell_type": "markdown",
   "metadata": {},
   "source": [
    "# Obtaining the settings of Inception v4 on ImageNet and applying modifications to the number of classes"
   ]
  },
  {
   "cell_type": "code",
   "execution_count": 35,
   "metadata": {},
   "outputs": [
    {
     "name": "stdout",
     "output_type": "stream",
     "text": [
      "{'imagenet': {'url': 'http://data.lip6.fr/cadene/pretrainedmodels/inceptionv4-8e4777a0.pth', 'input_space': 'RGB', 'input_size': [3, 299, 299], 'input_range': [0, 1], 'mean': [0.5, 0.5, 0.5], 'std': [0.5, 0.5, 0.5], 'num_classes': 1000}, 'imagenet+background': {'url': 'http://data.lip6.fr/cadene/pretrainedmodels/inceptionv4-8e4777a0.pth', 'input_space': 'RGB', 'input_size': [3, 299, 299], 'input_range': [0, 1], 'mean': [0.5, 0.5, 0.5], 'std': [0.5, 0.5, 0.5], 'num_classes': 1001}}\n"
     ]
    }
   ],
   "source": [
    "print(pretrainedmodels.pretrained_settings['inceptionv4'])"
   ]
  },
  {
   "cell_type": "code",
   "execution_count": 36,
   "metadata": {},
   "outputs": [],
   "source": [
    "model_name='inceptionv4'\n",
    "input_size = 299\n",
    "num_classes=3"
   ]
  },
  {
   "cell_type": "code",
   "execution_count": 37,
   "metadata": {},
   "outputs": [],
   "source": [
    "import torch.nn as nn\n",
    "\n",
    "model=pretrainedmodels.__dict__[model_name](1000, pretrained='imagenet')\n",
    "model.__call__\n",
    "dim_feats=model.last_linear.in_features\n",
    "model.last_linear=nn.Linear(dim_feats, num_classes)\n"
   ]
  },
  {
   "cell_type": "code",
   "execution_count": 38,
   "metadata": {},
   "outputs": [],
   "source": [
    "# Top level data directory. Here we assume the format of the directory conforms\n",
    "#   to the ImageFolder structure\n",
    "data_dir = \"./data/\"\n",
    "\n",
    "\n",
    "# Number of classes in the dataset\n",
    "num_classes = 3\n",
    "\n",
    "# Batch size for training (change depending on how much memory you have)\n",
    "batch_size = 8\n",
    "\n",
    "# Number of epochs to train for\n",
    "num_epochs = 15\n",
    "\n",
    "# Flag for feature extracting. When False, we finetune the whole model,\n",
    "#   when True we only update the reshaped layer params\n",
    "feature_extract = True"
   ]
  },
  {
   "cell_type": "code",
   "execution_count": 39,
   "metadata": {},
   "outputs": [
    {
     "name": "stdout",
     "output_type": "stream",
     "text": [
      "Initializing Datasets and Dataloaders...\n"
     ]
    }
   ],
   "source": [
    "#Data augmentation and normalization for training\n",
    "# Just normalization for validation\n",
    "input_size=299\n",
    "data_transforms = {\n",
    "    'train': transforms.Compose([\n",
    "        transforms.RandomResizedCrop(input_size),\n",
    "        transforms.RandomHorizontalFlip(),\n",
    "        transforms.ToTensor(),\n",
    "        transforms.Normalize([0.485, 0.456, 0.406], [0.229, 0.224, 0.225])\n",
    "    ]),\n",
    "    'val': transforms.Compose([\n",
    "        transforms.Resize(input_size),\n",
    "        transforms.CenterCrop(input_size),\n",
    "        transforms.ToTensor(),\n",
    "        transforms.Normalize([0.485, 0.456, 0.406], [0.229, 0.224, 0.225])\n",
    "    ]),\n",
    "    'test': transforms.Compose([\n",
    "        transforms.Resize(input_size),\n",
    "        transforms.CenterCrop(input_size),\n",
    "        transforms.ToTensor(),\n",
    "        transforms.Normalize([0.485, 0.456, 0.406], [0.229, 0.224, 0.225])\n",
    "    ]),\n",
    "}\n",
    "\n",
    "print(\"Initializing Datasets and Dataloaders...\")\n",
    "\n",
    "# Create training and validation datasets\n",
    "image_datasets = {x: datasets.ImageFolder(os.path.join(data_dir, x), data_transforms[x]) for x in ['train', 'val','test']}\n",
    "\n",
    "# Create training and validation dataloaders\n",
    "dataloaders_dict = {x: torch.utils.data.DataLoader(image_datasets[x], batch_size=batch_size, shuffle=True, num_workers=4) for x in ['train', 'val','test']}\n",
    "\n",
    "# Detect if we have a GPU available\n",
    "device = torch.device(\"cuda:0\" if torch.cuda.is_available() else \"cpu\")"
   ]
  },
  {
   "cell_type": "code",
   "execution_count": 40,
   "metadata": {},
   "outputs": [
    {
     "data": {
      "text/plain": [
       "{'train': Dataset ImageFolder\n",
       "     Number of datapoints: 62068\n",
       "     Root Location: ./data/train\n",
       "     Transforms (if any): Compose(\n",
       "                              RandomResizedCrop(size=(299, 299), scale=(0.08, 1.0), ratio=(0.75, 1.3333), interpolation=PIL.Image.BILINEAR)\n",
       "                              RandomHorizontalFlip(p=0.5)\n",
       "                              ToTensor()\n",
       "                              Normalize(mean=[0.485, 0.456, 0.406], std=[0.229, 0.224, 0.225])\n",
       "                          )\n",
       "     Target Transforms (if any): None, 'val': Dataset ImageFolder\n",
       "     Number of datapoints: 15340\n",
       "     Root Location: ./data/val\n",
       "     Transforms (if any): Compose(\n",
       "                              Resize(size=299, interpolation=PIL.Image.BILINEAR)\n",
       "                              CenterCrop(size=(299, 299))\n",
       "                              ToTensor()\n",
       "                              Normalize(mean=[0.485, 0.456, 0.406], std=[0.229, 0.224, 0.225])\n",
       "                          )\n",
       "     Target Transforms (if any): None, 'test': Dataset ImageFolder\n",
       "     Number of datapoints: 202\n",
       "     Root Location: ./data/test\n",
       "     Transforms (if any): Compose(\n",
       "                              Resize(size=299, interpolation=PIL.Image.BILINEAR)\n",
       "                              CenterCrop(size=(299, 299))\n",
       "                              ToTensor()\n",
       "                              Normalize(mean=[0.485, 0.456, 0.406], std=[0.229, 0.224, 0.225])\n",
       "                          )\n",
       "     Target Transforms (if any): None}"
      ]
     },
     "execution_count": 40,
     "metadata": {},
     "output_type": "execute_result"
    }
   ],
   "source": [
    "image_datasets"
   ]
  },
  {
   "cell_type": "code",
   "execution_count": 41,
   "metadata": {},
   "outputs": [],
   "source": [
    "import numpy as np\n",
    "import torch\n",
    "import torch.backends.cudnn as cudnn\n",
    "import torch.nn as nn\n",
    "import torch.nn.parallel\n",
    "import torch.optim as optim\n",
    "import torch.utils.data as data\n",
    "import torchvision.datasets as datasets\n",
    "import torchvision.models as models\n",
    "import torchvision.transforms as transforms\n",
    "import torch.utils.data as data\n",
    "from PIL import Image"
   ]
  },
  {
   "cell_type": "markdown",
   "metadata": {},
   "source": [
    "# Assigning index to the classes"
   ]
  },
  {
   "cell_type": "code",
   "execution_count": 42,
   "metadata": {},
   "outputs": [
    {
     "data": {
      "text/plain": [
       "{'edema': 0, 'no_edema': 1, 'uncertain': 2}"
      ]
     },
     "execution_count": 42,
     "metadata": {},
     "output_type": "execute_result"
    }
   ],
   "source": [
    "image_datasets['train'].class_to_idx"
   ]
  },
  {
   "cell_type": "code",
   "execution_count": 43,
   "metadata": {},
   "outputs": [],
   "source": [
    "def set_parameter_requires_grad(model, feature_extracting):\n",
    "    if feature_extracting:\n",
    "        for param in model.parameters():\n",
    "            param.requires_grad = False"
   ]
  },
  {
   "cell_type": "markdown",
   "metadata": {},
   "source": [
    "# Optimizing the parameters"
   ]
  },
  {
   "cell_type": "code",
   "execution_count": 44,
   "metadata": {},
   "outputs": [
    {
     "name": "stdout",
     "output_type": "stream",
     "text": [
      "Params to learn:\n",
      "\t features.0.conv.weight\n",
      "\t features.0.bn.weight\n",
      "\t features.0.bn.bias\n",
      "\t features.1.conv.weight\n",
      "\t features.1.bn.weight\n",
      "\t features.1.bn.bias\n",
      "\t features.2.conv.weight\n",
      "\t features.2.bn.weight\n",
      "\t features.2.bn.bias\n",
      "\t features.3.conv.conv.weight\n",
      "\t features.3.conv.bn.weight\n",
      "\t features.3.conv.bn.bias\n",
      "\t features.4.branch0.0.conv.weight\n",
      "\t features.4.branch0.0.bn.weight\n",
      "\t features.4.branch0.0.bn.bias\n",
      "\t features.4.branch0.1.conv.weight\n",
      "\t features.4.branch0.1.bn.weight\n",
      "\t features.4.branch0.1.bn.bias\n",
      "\t features.4.branch1.0.conv.weight\n",
      "\t features.4.branch1.0.bn.weight\n",
      "\t features.4.branch1.0.bn.bias\n",
      "\t features.4.branch1.1.conv.weight\n",
      "\t features.4.branch1.1.bn.weight\n",
      "\t features.4.branch1.1.bn.bias\n",
      "\t features.4.branch1.2.conv.weight\n",
      "\t features.4.branch1.2.bn.weight\n",
      "\t features.4.branch1.2.bn.bias\n",
      "\t features.4.branch1.3.conv.weight\n",
      "\t features.4.branch1.3.bn.weight\n",
      "\t features.4.branch1.3.bn.bias\n",
      "\t features.5.conv.conv.weight\n",
      "\t features.5.conv.bn.weight\n",
      "\t features.5.conv.bn.bias\n",
      "\t features.6.branch0.conv.weight\n",
      "\t features.6.branch0.bn.weight\n",
      "\t features.6.branch0.bn.bias\n",
      "\t features.6.branch1.0.conv.weight\n",
      "\t features.6.branch1.0.bn.weight\n",
      "\t features.6.branch1.0.bn.bias\n",
      "\t features.6.branch1.1.conv.weight\n",
      "\t features.6.branch1.1.bn.weight\n",
      "\t features.6.branch1.1.bn.bias\n",
      "\t features.6.branch2.0.conv.weight\n",
      "\t features.6.branch2.0.bn.weight\n",
      "\t features.6.branch2.0.bn.bias\n",
      "\t features.6.branch2.1.conv.weight\n",
      "\t features.6.branch2.1.bn.weight\n",
      "\t features.6.branch2.1.bn.bias\n",
      "\t features.6.branch2.2.conv.weight\n",
      "\t features.6.branch2.2.bn.weight\n",
      "\t features.6.branch2.2.bn.bias\n",
      "\t features.6.branch3.1.conv.weight\n",
      "\t features.6.branch3.1.bn.weight\n",
      "\t features.6.branch3.1.bn.bias\n",
      "\t features.7.branch0.conv.weight\n",
      "\t features.7.branch0.bn.weight\n",
      "\t features.7.branch0.bn.bias\n",
      "\t features.7.branch1.0.conv.weight\n",
      "\t features.7.branch1.0.bn.weight\n",
      "\t features.7.branch1.0.bn.bias\n",
      "\t features.7.branch1.1.conv.weight\n",
      "\t features.7.branch1.1.bn.weight\n",
      "\t features.7.branch1.1.bn.bias\n",
      "\t features.7.branch2.0.conv.weight\n",
      "\t features.7.branch2.0.bn.weight\n",
      "\t features.7.branch2.0.bn.bias\n",
      "\t features.7.branch2.1.conv.weight\n",
      "\t features.7.branch2.1.bn.weight\n",
      "\t features.7.branch2.1.bn.bias\n",
      "\t features.7.branch2.2.conv.weight\n",
      "\t features.7.branch2.2.bn.weight\n",
      "\t features.7.branch2.2.bn.bias\n",
      "\t features.7.branch3.1.conv.weight\n",
      "\t features.7.branch3.1.bn.weight\n",
      "\t features.7.branch3.1.bn.bias\n",
      "\t features.8.branch0.conv.weight\n",
      "\t features.8.branch0.bn.weight\n",
      "\t features.8.branch0.bn.bias\n",
      "\t features.8.branch1.0.conv.weight\n",
      "\t features.8.branch1.0.bn.weight\n",
      "\t features.8.branch1.0.bn.bias\n",
      "\t features.8.branch1.1.conv.weight\n",
      "\t features.8.branch1.1.bn.weight\n",
      "\t features.8.branch1.1.bn.bias\n",
      "\t features.8.branch2.0.conv.weight\n",
      "\t features.8.branch2.0.bn.weight\n",
      "\t features.8.branch2.0.bn.bias\n",
      "\t features.8.branch2.1.conv.weight\n",
      "\t features.8.branch2.1.bn.weight\n",
      "\t features.8.branch2.1.bn.bias\n",
      "\t features.8.branch2.2.conv.weight\n",
      "\t features.8.branch2.2.bn.weight\n",
      "\t features.8.branch2.2.bn.bias\n",
      "\t features.8.branch3.1.conv.weight\n",
      "\t features.8.branch3.1.bn.weight\n",
      "\t features.8.branch3.1.bn.bias\n",
      "\t features.9.branch0.conv.weight\n",
      "\t features.9.branch0.bn.weight\n",
      "\t features.9.branch0.bn.bias\n",
      "\t features.9.branch1.0.conv.weight\n",
      "\t features.9.branch1.0.bn.weight\n",
      "\t features.9.branch1.0.bn.bias\n",
      "\t features.9.branch1.1.conv.weight\n",
      "\t features.9.branch1.1.bn.weight\n",
      "\t features.9.branch1.1.bn.bias\n",
      "\t features.9.branch2.0.conv.weight\n",
      "\t features.9.branch2.0.bn.weight\n",
      "\t features.9.branch2.0.bn.bias\n",
      "\t features.9.branch2.1.conv.weight\n",
      "\t features.9.branch2.1.bn.weight\n",
      "\t features.9.branch2.1.bn.bias\n",
      "\t features.9.branch2.2.conv.weight\n",
      "\t features.9.branch2.2.bn.weight\n",
      "\t features.9.branch2.2.bn.bias\n",
      "\t features.9.branch3.1.conv.weight\n",
      "\t features.9.branch3.1.bn.weight\n",
      "\t features.9.branch3.1.bn.bias\n",
      "\t features.10.branch0.conv.weight\n",
      "\t features.10.branch0.bn.weight\n",
      "\t features.10.branch0.bn.bias\n",
      "\t features.10.branch1.0.conv.weight\n",
      "\t features.10.branch1.0.bn.weight\n",
      "\t features.10.branch1.0.bn.bias\n",
      "\t features.10.branch1.1.conv.weight\n",
      "\t features.10.branch1.1.bn.weight\n",
      "\t features.10.branch1.1.bn.bias\n",
      "\t features.10.branch1.2.conv.weight\n",
      "\t features.10.branch1.2.bn.weight\n",
      "\t features.10.branch1.2.bn.bias\n",
      "\t features.11.branch0.conv.weight\n",
      "\t features.11.branch0.bn.weight\n",
      "\t features.11.branch0.bn.bias\n",
      "\t features.11.branch1.0.conv.weight\n",
      "\t features.11.branch1.0.bn.weight\n",
      "\t features.11.branch1.0.bn.bias\n",
      "\t features.11.branch1.1.conv.weight\n",
      "\t features.11.branch1.1.bn.weight\n",
      "\t features.11.branch1.1.bn.bias\n",
      "\t features.11.branch1.2.conv.weight\n",
      "\t features.11.branch1.2.bn.weight\n",
      "\t features.11.branch1.2.bn.bias\n",
      "\t features.11.branch2.0.conv.weight\n",
      "\t features.11.branch2.0.bn.weight\n",
      "\t features.11.branch2.0.bn.bias\n",
      "\t features.11.branch2.1.conv.weight\n",
      "\t features.11.branch2.1.bn.weight\n",
      "\t features.11.branch2.1.bn.bias\n",
      "\t features.11.branch2.2.conv.weight\n",
      "\t features.11.branch2.2.bn.weight\n",
      "\t features.11.branch2.2.bn.bias\n",
      "\t features.11.branch2.3.conv.weight\n",
      "\t features.11.branch2.3.bn.weight\n",
      "\t features.11.branch2.3.bn.bias\n",
      "\t features.11.branch2.4.conv.weight\n",
      "\t features.11.branch2.4.bn.weight\n",
      "\t features.11.branch2.4.bn.bias\n",
      "\t features.11.branch3.1.conv.weight\n",
      "\t features.11.branch3.1.bn.weight\n",
      "\t features.11.branch3.1.bn.bias\n",
      "\t features.12.branch0.conv.weight\n",
      "\t features.12.branch0.bn.weight\n",
      "\t features.12.branch0.bn.bias\n",
      "\t features.12.branch1.0.conv.weight\n",
      "\t features.12.branch1.0.bn.weight\n",
      "\t features.12.branch1.0.bn.bias\n",
      "\t features.12.branch1.1.conv.weight\n",
      "\t features.12.branch1.1.bn.weight\n",
      "\t features.12.branch1.1.bn.bias\n",
      "\t features.12.branch1.2.conv.weight\n",
      "\t features.12.branch1.2.bn.weight\n",
      "\t features.12.branch1.2.bn.bias\n",
      "\t features.12.branch2.0.conv.weight\n",
      "\t features.12.branch2.0.bn.weight\n",
      "\t features.12.branch2.0.bn.bias\n",
      "\t features.12.branch2.1.conv.weight\n",
      "\t features.12.branch2.1.bn.weight\n",
      "\t features.12.branch2.1.bn.bias\n",
      "\t features.12.branch2.2.conv.weight\n",
      "\t features.12.branch2.2.bn.weight\n",
      "\t features.12.branch2.2.bn.bias\n",
      "\t features.12.branch2.3.conv.weight\n",
      "\t features.12.branch2.3.bn.weight\n",
      "\t features.12.branch2.3.bn.bias\n",
      "\t features.12.branch2.4.conv.weight\n",
      "\t features.12.branch2.4.bn.weight\n",
      "\t features.12.branch2.4.bn.bias\n",
      "\t features.12.branch3.1.conv.weight\n",
      "\t features.12.branch3.1.bn.weight\n",
      "\t features.12.branch3.1.bn.bias\n",
      "\t features.13.branch0.conv.weight\n",
      "\t features.13.branch0.bn.weight\n",
      "\t features.13.branch0.bn.bias\n",
      "\t features.13.branch1.0.conv.weight\n",
      "\t features.13.branch1.0.bn.weight\n",
      "\t features.13.branch1.0.bn.bias\n",
      "\t features.13.branch1.1.conv.weight\n",
      "\t features.13.branch1.1.bn.weight\n",
      "\t features.13.branch1.1.bn.bias\n",
      "\t features.13.branch1.2.conv.weight\n",
      "\t features.13.branch1.2.bn.weight\n",
      "\t features.13.branch1.2.bn.bias\n",
      "\t features.13.branch2.0.conv.weight\n",
      "\t features.13.branch2.0.bn.weight\n",
      "\t features.13.branch2.0.bn.bias\n",
      "\t features.13.branch2.1.conv.weight\n",
      "\t features.13.branch2.1.bn.weight\n",
      "\t features.13.branch2.1.bn.bias\n",
      "\t features.13.branch2.2.conv.weight\n",
      "\t features.13.branch2.2.bn.weight\n",
      "\t features.13.branch2.2.bn.bias\n",
      "\t features.13.branch2.3.conv.weight\n",
      "\t features.13.branch2.3.bn.weight\n",
      "\t features.13.branch2.3.bn.bias\n",
      "\t features.13.branch2.4.conv.weight\n",
      "\t features.13.branch2.4.bn.weight\n",
      "\t features.13.branch2.4.bn.bias\n",
      "\t features.13.branch3.1.conv.weight\n",
      "\t features.13.branch3.1.bn.weight\n",
      "\t features.13.branch3.1.bn.bias\n",
      "\t features.14.branch0.conv.weight\n",
      "\t features.14.branch0.bn.weight\n",
      "\t features.14.branch0.bn.bias\n",
      "\t features.14.branch1.0.conv.weight\n",
      "\t features.14.branch1.0.bn.weight\n",
      "\t features.14.branch1.0.bn.bias\n",
      "\t features.14.branch1.1.conv.weight\n",
      "\t features.14.branch1.1.bn.weight\n",
      "\t features.14.branch1.1.bn.bias\n",
      "\t features.14.branch1.2.conv.weight\n",
      "\t features.14.branch1.2.bn.weight\n",
      "\t features.14.branch1.2.bn.bias\n",
      "\t features.14.branch2.0.conv.weight\n",
      "\t features.14.branch2.0.bn.weight\n",
      "\t features.14.branch2.0.bn.bias\n",
      "\t features.14.branch2.1.conv.weight\n",
      "\t features.14.branch2.1.bn.weight\n",
      "\t features.14.branch2.1.bn.bias\n",
      "\t features.14.branch2.2.conv.weight\n",
      "\t features.14.branch2.2.bn.weight\n",
      "\t features.14.branch2.2.bn.bias\n",
      "\t features.14.branch2.3.conv.weight\n",
      "\t features.14.branch2.3.bn.weight\n",
      "\t features.14.branch2.3.bn.bias\n",
      "\t features.14.branch2.4.conv.weight\n",
      "\t features.14.branch2.4.bn.weight\n",
      "\t features.14.branch2.4.bn.bias\n",
      "\t features.14.branch3.1.conv.weight\n",
      "\t features.14.branch3.1.bn.weight\n",
      "\t features.14.branch3.1.bn.bias\n",
      "\t features.15.branch0.conv.weight\n",
      "\t features.15.branch0.bn.weight\n",
      "\t features.15.branch0.bn.bias\n",
      "\t features.15.branch1.0.conv.weight\n",
      "\t features.15.branch1.0.bn.weight\n",
      "\t features.15.branch1.0.bn.bias\n",
      "\t features.15.branch1.1.conv.weight\n",
      "\t features.15.branch1.1.bn.weight\n",
      "\t features.15.branch1.1.bn.bias\n",
      "\t features.15.branch1.2.conv.weight\n",
      "\t features.15.branch1.2.bn.weight\n",
      "\t features.15.branch1.2.bn.bias\n",
      "\t features.15.branch2.0.conv.weight\n",
      "\t features.15.branch2.0.bn.weight\n",
      "\t features.15.branch2.0.bn.bias\n",
      "\t features.15.branch2.1.conv.weight\n",
      "\t features.15.branch2.1.bn.weight\n",
      "\t features.15.branch2.1.bn.bias\n",
      "\t features.15.branch2.2.conv.weight\n",
      "\t features.15.branch2.2.bn.weight\n",
      "\t features.15.branch2.2.bn.bias\n",
      "\t features.15.branch2.3.conv.weight\n",
      "\t features.15.branch2.3.bn.weight\n",
      "\t features.15.branch2.3.bn.bias\n",
      "\t features.15.branch2.4.conv.weight\n",
      "\t features.15.branch2.4.bn.weight\n",
      "\t features.15.branch2.4.bn.bias\n",
      "\t features.15.branch3.1.conv.weight\n",
      "\t features.15.branch3.1.bn.weight\n",
      "\t features.15.branch3.1.bn.bias\n",
      "\t features.16.branch0.conv.weight\n",
      "\t features.16.branch0.bn.weight\n",
      "\t features.16.branch0.bn.bias\n",
      "\t features.16.branch1.0.conv.weight\n",
      "\t features.16.branch1.0.bn.weight\n",
      "\t features.16.branch1.0.bn.bias\n",
      "\t features.16.branch1.1.conv.weight\n",
      "\t features.16.branch1.1.bn.weight\n",
      "\t features.16.branch1.1.bn.bias\n",
      "\t features.16.branch1.2.conv.weight\n",
      "\t features.16.branch1.2.bn.weight\n",
      "\t features.16.branch1.2.bn.bias\n",
      "\t features.16.branch2.0.conv.weight\n",
      "\t features.16.branch2.0.bn.weight\n",
      "\t features.16.branch2.0.bn.bias\n",
      "\t features.16.branch2.1.conv.weight\n",
      "\t features.16.branch2.1.bn.weight\n",
      "\t features.16.branch2.1.bn.bias\n",
      "\t features.16.branch2.2.conv.weight\n",
      "\t features.16.branch2.2.bn.weight\n",
      "\t features.16.branch2.2.bn.bias\n",
      "\t features.16.branch2.3.conv.weight\n",
      "\t features.16.branch2.3.bn.weight\n",
      "\t features.16.branch2.3.bn.bias\n",
      "\t features.16.branch2.4.conv.weight\n",
      "\t features.16.branch2.4.bn.weight\n",
      "\t features.16.branch2.4.bn.bias\n",
      "\t features.16.branch3.1.conv.weight\n",
      "\t features.16.branch3.1.bn.weight\n",
      "\t features.16.branch3.1.bn.bias\n",
      "\t features.17.branch0.conv.weight\n",
      "\t features.17.branch0.bn.weight\n",
      "\t features.17.branch0.bn.bias\n",
      "\t features.17.branch1.0.conv.weight\n",
      "\t features.17.branch1.0.bn.weight\n",
      "\t features.17.branch1.0.bn.bias\n",
      "\t features.17.branch1.1.conv.weight\n",
      "\t features.17.branch1.1.bn.weight\n",
      "\t features.17.branch1.1.bn.bias\n",
      "\t features.17.branch1.2.conv.weight\n",
      "\t features.17.branch1.2.bn.weight\n",
      "\t features.17.branch1.2.bn.bias\n",
      "\t features.17.branch2.0.conv.weight\n",
      "\t features.17.branch2.0.bn.weight\n",
      "\t features.17.branch2.0.bn.bias\n",
      "\t features.17.branch2.1.conv.weight\n",
      "\t features.17.branch2.1.bn.weight\n",
      "\t features.17.branch2.1.bn.bias\n",
      "\t features.17.branch2.2.conv.weight\n",
      "\t features.17.branch2.2.bn.weight\n",
      "\t features.17.branch2.2.bn.bias\n",
      "\t features.17.branch2.3.conv.weight\n",
      "\t features.17.branch2.3.bn.weight\n",
      "\t features.17.branch2.3.bn.bias\n",
      "\t features.17.branch2.4.conv.weight\n",
      "\t features.17.branch2.4.bn.weight\n",
      "\t features.17.branch2.4.bn.bias\n",
      "\t features.17.branch3.1.conv.weight\n",
      "\t features.17.branch3.1.bn.weight\n",
      "\t features.17.branch3.1.bn.bias\n",
      "\t features.18.branch0.0.conv.weight\n",
      "\t features.18.branch0.0.bn.weight\n",
      "\t features.18.branch0.0.bn.bias\n",
      "\t features.18.branch0.1.conv.weight\n",
      "\t features.18.branch0.1.bn.weight\n",
      "\t features.18.branch0.1.bn.bias\n",
      "\t features.18.branch1.0.conv.weight\n",
      "\t features.18.branch1.0.bn.weight\n",
      "\t features.18.branch1.0.bn.bias\n",
      "\t features.18.branch1.1.conv.weight\n",
      "\t features.18.branch1.1.bn.weight\n",
      "\t features.18.branch1.1.bn.bias\n",
      "\t features.18.branch1.2.conv.weight\n",
      "\t features.18.branch1.2.bn.weight\n",
      "\t features.18.branch1.2.bn.bias\n",
      "\t features.18.branch1.3.conv.weight\n",
      "\t features.18.branch1.3.bn.weight\n",
      "\t features.18.branch1.3.bn.bias\n",
      "\t features.19.branch0.conv.weight\n",
      "\t features.19.branch0.bn.weight\n",
      "\t features.19.branch0.bn.bias\n",
      "\t features.19.branch1_0.conv.weight\n",
      "\t features.19.branch1_0.bn.weight\n",
      "\t features.19.branch1_0.bn.bias\n",
      "\t features.19.branch1_1a.conv.weight\n",
      "\t features.19.branch1_1a.bn.weight\n",
      "\t features.19.branch1_1a.bn.bias\n",
      "\t features.19.branch1_1b.conv.weight\n",
      "\t features.19.branch1_1b.bn.weight\n",
      "\t features.19.branch1_1b.bn.bias\n",
      "\t features.19.branch2_0.conv.weight\n",
      "\t features.19.branch2_0.bn.weight\n",
      "\t features.19.branch2_0.bn.bias\n",
      "\t features.19.branch2_1.conv.weight\n",
      "\t features.19.branch2_1.bn.weight\n",
      "\t features.19.branch2_1.bn.bias\n",
      "\t features.19.branch2_2.conv.weight\n",
      "\t features.19.branch2_2.bn.weight\n",
      "\t features.19.branch2_2.bn.bias\n",
      "\t features.19.branch2_3a.conv.weight\n",
      "\t features.19.branch2_3a.bn.weight\n",
      "\t features.19.branch2_3a.bn.bias\n",
      "\t features.19.branch2_3b.conv.weight\n",
      "\t features.19.branch2_3b.bn.weight\n",
      "\t features.19.branch2_3b.bn.bias\n",
      "\t features.19.branch3.1.conv.weight\n",
      "\t features.19.branch3.1.bn.weight\n",
      "\t features.19.branch3.1.bn.bias\n",
      "\t features.20.branch0.conv.weight\n",
      "\t features.20.branch0.bn.weight\n",
      "\t features.20.branch0.bn.bias\n",
      "\t features.20.branch1_0.conv.weight\n",
      "\t features.20.branch1_0.bn.weight\n",
      "\t features.20.branch1_0.bn.bias\n",
      "\t features.20.branch1_1a.conv.weight\n",
      "\t features.20.branch1_1a.bn.weight\n",
      "\t features.20.branch1_1a.bn.bias\n",
      "\t features.20.branch1_1b.conv.weight\n",
      "\t features.20.branch1_1b.bn.weight\n",
      "\t features.20.branch1_1b.bn.bias\n",
      "\t features.20.branch2_0.conv.weight\n",
      "\t features.20.branch2_0.bn.weight\n",
      "\t features.20.branch2_0.bn.bias\n",
      "\t features.20.branch2_1.conv.weight\n",
      "\t features.20.branch2_1.bn.weight\n",
      "\t features.20.branch2_1.bn.bias\n",
      "\t features.20.branch2_2.conv.weight\n",
      "\t features.20.branch2_2.bn.weight\n",
      "\t features.20.branch2_2.bn.bias\n",
      "\t features.20.branch2_3a.conv.weight\n",
      "\t features.20.branch2_3a.bn.weight\n",
      "\t features.20.branch2_3a.bn.bias\n",
      "\t features.20.branch2_3b.conv.weight\n",
      "\t features.20.branch2_3b.bn.weight\n",
      "\t features.20.branch2_3b.bn.bias\n",
      "\t features.20.branch3.1.conv.weight\n",
      "\t features.20.branch3.1.bn.weight\n",
      "\t features.20.branch3.1.bn.bias\n",
      "\t features.21.branch0.conv.weight\n",
      "\t features.21.branch0.bn.weight\n",
      "\t features.21.branch0.bn.bias\n",
      "\t features.21.branch1_0.conv.weight\n",
      "\t features.21.branch1_0.bn.weight\n",
      "\t features.21.branch1_0.bn.bias\n",
      "\t features.21.branch1_1a.conv.weight\n",
      "\t features.21.branch1_1a.bn.weight\n",
      "\t features.21.branch1_1a.bn.bias\n",
      "\t features.21.branch1_1b.conv.weight\n",
      "\t features.21.branch1_1b.bn.weight\n",
      "\t features.21.branch1_1b.bn.bias\n",
      "\t features.21.branch2_0.conv.weight\n",
      "\t features.21.branch2_0.bn.weight\n",
      "\t features.21.branch2_0.bn.bias\n",
      "\t features.21.branch2_1.conv.weight\n",
      "\t features.21.branch2_1.bn.weight\n",
      "\t features.21.branch2_1.bn.bias\n",
      "\t features.21.branch2_2.conv.weight\n",
      "\t features.21.branch2_2.bn.weight\n",
      "\t features.21.branch2_2.bn.bias\n",
      "\t features.21.branch2_3a.conv.weight\n",
      "\t features.21.branch2_3a.bn.weight\n",
      "\t features.21.branch2_3a.bn.bias\n",
      "\t features.21.branch2_3b.conv.weight\n",
      "\t features.21.branch2_3b.bn.weight\n",
      "\t features.21.branch2_3b.bn.bias\n",
      "\t features.21.branch3.1.conv.weight\n",
      "\t features.21.branch3.1.bn.weight\n",
      "\t features.21.branch3.1.bn.bias\n",
      "\t last_linear.weight\n",
      "\t last_linear.bias\n"
     ]
    }
   ],
   "source": [
    "# Send the model to GPU\n",
    "model_ft = model.to(device)\n",
    "\n",
    "# Gather the parameters to be optimized/updated in this run. If we are\n",
    "#  finetuning we will be updating all parameters. However, if we are\n",
    "#  doing feature extract method, we will only update the parameters\n",
    "#  that we have just initialized, i.e. the parameters with requires_grad\n",
    "#  is True.\n",
    "params_to_update = model_ft.parameters()\n",
    "print(\"Params to learn:\")\n",
    "if feature_extract:\n",
    "    params_to_update = []\n",
    "    for name,param in model_ft.named_parameters():\n",
    "        if param.requires_grad == True:\n",
    "            params_to_update.append(param)\n",
    "            print(\"\\t\",name)\n",
    "else:\n",
    "    for name,param in model_ft.named_parameters():\n",
    "        if param.requires_grad == True:\n",
    "            print(\"\\t\",name)\n",
    "\n",
    "# Observe that all parameters are being optimized\n",
    "optimizer_ft = optim.SGD(params_to_update, lr=0.001, momentum=0.9)"
   ]
  },
  {
   "cell_type": "markdown",
   "metadata": {},
   "source": [
    "# Model Training"
   ]
  },
  {
   "cell_type": "code",
   "execution_count": 45,
   "metadata": {},
   "outputs": [],
   "source": [
    "def train_model(model, dataloaders, criterion, optimizer, num_epochs=25, is_inception=False):\n",
    "    since = time.time()\n",
    "\n",
    "    val_acc_history = []\n",
    "\n",
    "    best_model_wts = copy.deepcopy(model.state_dict())\n",
    "    best_acc = 0.0\n",
    "\n",
    "    for epoch in range(num_epochs):\n",
    "        print('Epoch {}/{}'.format(epoch, num_epochs - 1))\n",
    "        print('-' * 10)\n",
    "\n",
    "        # Each epoch has a training and validation phase\n",
    "        for phase in ['train', 'val','test']:\n",
    "            if phase == 'train':\n",
    "                model.train()  # Set model to training mode\n",
    "            else:\n",
    "                model.eval()   # Set model to evaluate mode\n",
    "\n",
    "            running_loss = 0.0\n",
    "            running_corrects = 0\n",
    "\n",
    "            # Iterate over data.\n",
    "            for inputs, labels in dataloaders[phase]:\n",
    "                inputs = inputs.to(device)\n",
    "                labels = labels.to(device)\n",
    "\n",
    "                # zero the parameter gradients\n",
    "                optimizer.zero_grad()\n",
    "\n",
    "                # forward\n",
    "                # track history if only in train\n",
    "                with torch.set_grad_enabled(phase == 'train'):\n",
    "                    # Get model outputs and calculate loss\n",
    "                    # Special case for inception because in training it has an auxiliary output. In train\n",
    "                    #   mode we calculate the loss by summing the final output and the auxiliary output\n",
    "                    #   but in testing we only consider the final output.\n",
    "                    if is_inception and phase == 'train':\n",
    "                        # From https://discuss.pytorch.org/t/how-to-optimize-inception-model-with-auxiliary-classifiers/7958\n",
    "                        outputs, aux_outputs = model(inputs)\n",
    "                        loss1 = criterion(outputs, labels)\n",
    "                        loss2 = criterion(aux_outputs, labels)\n",
    "                        loss = loss1 + 0.4*loss2\n",
    "                    else:\n",
    "                        outputs = model(inputs)\n",
    "                        \n",
    "                        loss = criterion(outputs, labels)\n",
    "\n",
    "                    _, preds = torch.max(outputs, 1)\n",
    "\n",
    "                    # backward + optimize only if in training phase\n",
    "                    if phase == 'train':\n",
    "                        loss.backward()\n",
    "                        optimizer.step()\n",
    "\n",
    "                # statistics\n",
    "                running_loss += loss.item() * inputs.size(0)\n",
    "                running_corrects += torch.sum(preds == labels.data)\n",
    "\n",
    "            epoch_loss = running_loss / len(dataloaders[phase].dataset)\n",
    "            epoch_acc = running_corrects.double() / len(dataloaders[phase].dataset)\n",
    "\n",
    "            print('{} Loss: {:.4f} Acc: {:.4f}'.format(phase, epoch_loss, epoch_acc))\n",
    "\n",
    "            # deep copy the model\n",
    "            if phase == 'val' and epoch_acc > best_acc:\n",
    "                best_acc = epoch_acc\n",
    "                best_model_wts = copy.deepcopy(model.state_dict())\n",
    "            if phase == 'val':\n",
    "                val_acc_history.append(epoch_acc)\n",
    "\n",
    "\n",
    "    time_elapsed = time.time() - since\n",
    "    print('Training complete in {:.0f}m {:.0f}s'.format(time_elapsed // 60, time_elapsed % 60))\n",
    "    print('Best val Acc: {:4f}'.format(best_acc))\n",
    "\n",
    "    # load best model weights\n",
    "    model.load_state_dict(best_model_wts)\n",
    "    return model, val_acc_history"
   ]
  },
  {
   "cell_type": "code",
   "execution_count": 46,
   "metadata": {},
   "outputs": [],
   "source": [
    "# Setup the loss fxn\n",
    "criterion = nn.CrossEntropyLoss()"
   ]
  },
  {
   "cell_type": "code",
   "execution_count": 47,
   "metadata": {},
   "outputs": [
    {
     "name": "stdout",
     "output_type": "stream",
     "text": [
      "Epoch 0/14\n",
      "----------\n",
      "train Loss: 0.7469 Acc: 0.7030\n",
      "val Loss: 0.6983 Acc: 0.7218\n",
      "test Loss: 0.8689 Acc: 0.6386\n",
      "Epoch 2/14\n",
      "----------\n",
      "train Loss: 0.7382 Acc: 0.7077\n",
      "val Loss: 0.6786 Acc: 0.7277\n",
      "test Loss: 0.7225 Acc: 0.6931\n",
      "Epoch 3/14\n",
      "----------\n",
      "train Loss: 0.7258 Acc: 0.7118\n",
      "val Loss: 0.6708 Acc: 0.7338\n",
      "test Loss: 0.7946 Acc: 0.6287\n",
      "Epoch 4/14\n",
      "----------\n",
      "train Loss: 0.7179 Acc: 0.7144\n",
      "val Loss: 0.7464 Acc: 0.7123\n",
      "test Loss: 0.8452 Acc: 0.6634\n",
      "Epoch 5/14\n",
      "----------\n",
      "train Loss: 0.7119 Acc: 0.7170\n",
      "val Loss: 0.6720 Acc: 0.7332\n",
      "test Loss: 0.8653 Acc: 0.6436\n",
      "Epoch 6/14\n",
      "----------\n",
      "train Loss: 0.7087 Acc: 0.7178\n",
      "val Loss: 0.6768 Acc: 0.7301\n",
      "test Loss: 0.7405 Acc: 0.7178\n",
      "Epoch 7/14\n",
      "----------\n",
      "train Loss: 0.7073 Acc: 0.7176\n",
      "val Loss: 0.7437 Acc: 0.7226\n",
      "test Loss: 1.0989 Acc: 0.5149\n",
      "Epoch 8/14\n",
      "----------\n",
      "train Loss: 0.7043 Acc: 0.7206\n",
      "val Loss: 0.6933 Acc: 0.7288\n",
      "test Loss: 1.0359 Acc: 0.5842\n",
      "Epoch 9/14\n",
      "----------\n",
      "train Loss: 0.6977 Acc: 0.7242\n",
      "val Loss: 0.6828 Acc: 0.7283\n",
      "test Loss: 0.9778 Acc: 0.5545\n",
      "Epoch 10/14\n",
      "----------\n",
      "train Loss: 0.6926 Acc: 0.7239\n",
      "val Loss: 0.6986 Acc: 0.7168\n",
      "test Loss: 0.5894 Acc: 0.7822\n",
      "Epoch 11/14\n",
      "----------\n",
      "train Loss: 0.6901 Acc: 0.7244\n",
      "val Loss: 0.6706 Acc: 0.7307\n",
      "test Loss: 0.7730 Acc: 0.7030\n",
      "Epoch 12/14\n",
      "----------\n",
      "train Loss: 0.6882 Acc: 0.7256\n",
      "val Loss: 0.6713 Acc: 0.7350\n",
      "test Loss: 0.8281 Acc: 0.6535\n",
      "Epoch 13/14\n",
      "----------\n",
      "train Loss: 0.6838 Acc: 0.7266\n",
      "val Loss: 0.6945 Acc: 0.7156\n",
      "test Loss: 0.8882 Acc: 0.6238\n",
      "Epoch 14/14\n",
      "----------\n",
      "train Loss: 0.6819 Acc: 0.7265\n",
      "val Loss: 0.6824 Acc: 0.7302\n",
      "test Loss: 0.6978 Acc: 0.7178\n",
      "Training complete in 472m 52s\n",
      "Best val Acc: 0.735007\n"
     ]
    }
   ],
   "source": [
    "\n",
    "#!CUDA_LAUNCH_BLOCKING=1\n",
    "# Train and evaluate\n",
    "model_ft, hist = train_model(model_ft, dataloaders_dict, criterion, optimizer_ft, num_epochs=num_epochs)"
   ]
  },
  {
   "cell_type": "markdown",
   "metadata": {},
   "source": [
    "# Saving the model"
   ]
  },
  {
   "cell_type": "code",
   "execution_count": 48,
   "metadata": {},
   "outputs": [],
   "source": [
    "#Run this if you want to save the model\n",
    "torch.save(model_ft.state_dict(),'Edema_detect.pth')\n"
   ]
  },
  {
   "cell_type": "code",
   "execution_count": 49,
   "metadata": {},
   "outputs": [],
   "source": [
    "#Run this if you want to load the model\n",
    "model.load_state_dict(torch.load('Edema_detect.pth'))"
   ]
  },
  {
   "cell_type": "markdown",
   "metadata": {},
   "source": [
    "# Model Evaluation"
   ]
  },
  {
   "cell_type": "code",
   "execution_count": 50,
   "metadata": {},
   "outputs": [
    {
     "name": "stdout",
     "output_type": "stream",
     "text": [
      "test Loss: 0.8281 Acc: 0.6535\n"
     ]
    }
   ],
   "source": [
    "model.eval()   # Set model to evaluate mode\n",
    "\n",
    "running_loss = 0.0\n",
    "running_corrects = 0\n",
    "all_logits=None\n",
    "all_labels=None\n",
    "predictions=[]\n",
    "true_labels=[]\n",
    "# Iterate over data.\n",
    "for inputs, labels in dataloaders_dict['test']:\n",
    "    inputs = inputs.to(device)\n",
    "    labels = labels.to(device)\n",
    "    outputs = model(inputs)\n",
    "    \n",
    "    loss = criterion(outputs, labels)\n",
    "    _, preds = torch.max(outputs, 1)\n",
    "    all_logits=preds.cpu().numpy()\n",
    "    all_labels=labels.cpu().numpy()\n",
    "    predictions.append(all_logits)\n",
    "    true_labels.append(all_labels)\n",
    "    \n",
    "    running_loss += loss.item() * inputs.size(0)\n",
    "    running_corrects += torch.sum(preds == labels.data)\n",
    "epoch_loss = running_loss / len(dataloaders_dict['test'].dataset)\n",
    "epoch_acc = running_corrects.double() / len(dataloaders_dict['test'].dataset)\n",
    "print('{} Loss: {:.4f} Acc: {:.4f}'.format('test', epoch_loss, epoch_acc))"
   ]
  },
  {
   "cell_type": "code",
   "execution_count": 51,
   "metadata": {},
   "outputs": [],
   "source": [
    "class_names = image_datasets['test'].classes"
   ]
  },
  {
   "cell_type": "code",
   "execution_count": 52,
   "metadata": {},
   "outputs": [],
   "source": [
    "def imshow(inp, title=None):\n",
    "    \"\"\"Imshow for Tensor.\"\"\"\n",
    "    inp = inp.numpy().transpose((1, 2, 0))\n",
    "    mean = np.array([0.485, 0.456, 0.406])\n",
    "    std = np.array([0.229, 0.224, 0.225])\n",
    "    inp = std * inp + mean\n",
    "    inp = np.clip(inp, 0, 1)\n",
    "    plt.imshow(inp)\n",
    "    if title is not None:\n",
    "        plt.title(title)\n",
    "    plt.pause(0.001)"
   ]
  },
  {
   "cell_type": "markdown",
   "metadata": {},
   "source": [
    "# Obtaining model predictions"
   ]
  },
  {
   "cell_type": "code",
   "execution_count": 53,
   "metadata": {},
   "outputs": [],
   "source": [
    "running_loss=[]\n",
    "def visualize_model(model, num_images=6):\n",
    "    was_training = model.training\n",
    "    model.eval()\n",
    "    images_so_far = 0\n",
    "    fig = plt.figure()\n",
    "\n",
    "    with torch.no_grad():\n",
    "        for i, (inputs, labels) in enumerate(dataloaders_dict['test']):\n",
    "            inputs = inputs.to(device)\n",
    "            labels = labels.to(device)\n",
    "\n",
    "            outputs = model(inputs)\n",
    "            loss = criterion(outputs, labels)\n",
    "                        \n",
    "            _, preds = torch.max(outputs, 1)\n",
    "\n",
    "              \n",
    "            for j in range(inputs.size()[0]):\n",
    "                images_so_far += 1\n",
    "                ax = plt.subplot(num_images//2, 2, images_so_far)\n",
    "                ax.axis('off')\n",
    "                ax.set_title('predicted: {}'.format(class_names[preds[j]]))\n",
    "                imshow(inputs.cpu().data[j])\n",
    "\n",
    "                if images_so_far == num_images:\n",
    "                    model.train(mode=was_training)\n",
    "                    return\n",
    "        model.train(mode=was_training)"
   ]
  },
  {
   "cell_type": "code",
   "execution_count": 54,
   "metadata": {},
   "outputs": [
    {
     "data": {
      "image/png": "[encoded data removed]",
      "text/plain": [
       "<Figure size 432x288 with 1 Axes>"
      ]
     },
     "metadata": {
      "needs_background": "light"
     },
     "output_type": "display_data"
    },
    {
     "data": {
      "image/png": "[encoded data removed]",
      "text/plain": [
       "<Figure size 432x288 with 1 Axes>"
      ]
     },
     "metadata": {
      "needs_background": "light"
     },
     "output_type": "display_data"
    },
    {
     "data": {
      "image/png": "[encoded data removed]",
      "text/plain": [
       "<Figure size 432x288 with 1 Axes>"
      ]
     },
     "metadata": {
      "needs_background": "light"
     },
     "output_type": "display_data"
    },
    {
     "data": {
      "image/png": "[encoded data removed]",
      "text/plain": [
       "<Figure size 432x288 with 1 Axes>"
      ]
     },
     "metadata": {
      "needs_background": "light"
     },
     "output_type": "display_data"
    },
    {
     "data": {
      "image/png": "[encoded data removed]",
      "text/plain": [
       "<Figure size 432x288 with 1 Axes>"
      ]
     },
     "metadata": {
      "needs_background": "light"
     },
     "output_type": "display_data"
    },
    {
     "data": {
      "image/png": "[encoded data removed]",
      "text/plain": [
       "<Figure size 432x288 with 1 Axes>"
      ]
     },
     "metadata": {
      "needs_background": "light"
     },
     "output_type": "display_data"
    }
   ],
   "source": [
    "visualize_model(model)"
   ]
  },
  {
   "cell_type": "code",
   "execution_count": 55,
   "metadata": {},
   "outputs": [],
   "source": [
    "pred_array=np.concatenate(predictions)\n"
   ]
  },
  {
   "cell_type": "code",
   "execution_count": 56,
   "metadata": {},
   "outputs": [],
   "source": [
    "lab_array=np.concatenate(true_labels)"
   ]
  },
  {
   "cell_type": "code",
   "execution_count": 57,
   "metadata": {},
   "outputs": [
    {
     "data": {
      "text/plain": [
       "array([1, 1, 0, 1, 1, 1, 1, 0, 1, 0, 0, 1, 1, 1, 1, 0, 1, 1, 1, 1, 1, 1,\n",
       "       0, 0, 1, 1, 1, 1, 0, 0, 1, 1, 1, 1, 1, 0, 1, 0, 0, 1, 0, 1, 1, 0,\n",
       "       1, 0, 1, 1, 1, 0, 1, 1, 1, 1, 1, 1, 1, 1, 1, 1, 1, 1, 1, 0, 1, 1,\n",
       "       0, 1, 1, 0, 0, 1, 1, 1, 1, 1, 1, 1, 1, 1, 0, 1, 1, 1, 1, 1, 1, 1,\n",
       "       1, 0, 1, 1, 1, 1, 1, 1, 1, 1, 1, 0, 1, 1, 1, 1, 1, 0, 1, 1, 1, 1,\n",
       "       1, 1, 1, 1, 1, 0, 1, 0, 1, 0, 1, 0, 1, 1, 1, 1, 1, 0, 1, 1, 1, 1,\n",
       "       1, 0, 1, 1, 1, 1, 1, 1, 1, 1, 0, 1, 1, 1, 0, 1, 1, 0, 1, 1, 1, 1,\n",
       "       1, 1, 1, 1, 1, 1, 1, 1, 0, 1, 1, 1, 1, 1, 1, 1, 0, 0, 1, 1, 1, 1,\n",
       "       1, 1, 1, 1, 0, 1, 1, 0, 0, 1, 1, 1, 0, 1, 1, 1, 1, 1, 0, 1, 1, 1,\n",
       "       1, 1, 1, 0])"
      ]
     },
     "execution_count": 57,
     "metadata": {},
     "output_type": "execute_result"
    }
   ],
   "source": [
    "lab_array"
   ]
  },
  {
   "cell_type": "markdown",
   "metadata": {},
   "source": [
    "# Calculation of Model Metrics"
   ]
  },
  {
   "cell_type": "code",
   "execution_count": 58,
   "metadata": {},
   "outputs": [],
   "source": [
    "from sklearn.metrics import classification_report\n",
    "from sklearn.metrics import roc_auc_score\n",
    "from sklearn.metrics import roc_curve\n",
    "from sklearn import metrics\n",
    "from sklearn.metrics import recall_score,accuracy_score"
   ]
  },
  {
   "cell_type": "code",
   "execution_count": 59,
   "metadata": {},
   "outputs": [
    {
     "name": "stdout",
     "output_type": "stream",
     "text": [
      "              precision    recall  f1-score   support\n",
      "\n",
      "           0       0.37      0.95      0.53        42\n",
      "           1       0.99      0.57      0.73       160\n",
      "           2       0.00      0.00      0.00         0\n",
      "\n",
      "    accuracy                           0.65       202\n",
      "   macro avg       0.45      0.51      0.42       202\n",
      "weighted avg       0.86      0.65      0.69       202\n",
      "\n"
     ]
    },
    {
     "name": "stderr",
     "output_type": "stream",
     "text": [
      "/home/jupyter-tpisati/.local/lib/python3.6/site-packages/sklearn/metrics/classification.py:1439: UndefinedMetricWarning: Recall and F-score are ill-defined and being set to 0.0 in labels with no true samples.\n",
      "  'recall', 'true', average, warn_for)\n"
     ]
    },
    {
     "data": {
      "image/png": "[encoded data removed]",
      "text/plain": [
       "<Figure size 432x288 with 1 Axes>"
      ]
     },
     "metadata": {
      "needs_background": "light"
     },
     "output_type": "display_data"
    }
   ],
   "source": [
    "%matplotlib inline\n",
    "import matplotlib.pyplot as plt\n",
    "print(classification_report(lab_array,pred_array))\n",
    "Roc_auc = roc_auc_score(lab_array,pred_array)\n",
    "fpr, tpr, thresholds = roc_curve(lab_array,pred_array)\n",
    "plt.plot(fpr, tpr, label='inception classification (area = %0.2f)' % Roc_auc)\n",
    "plt.plot([0, 1], [0, 1],'r--')\n",
    "plt.xlim([0.0, 1.0])\n",
    "plt.ylim([0.0, 1.05])\n",
    "plt.xlabel('False Positive Rate')\n",
    "plt.ylabel('True Positive Rate')\n",
    "plt.title('ROC curve')\n",
    "plt.legend(loc=\"lower right\")\n",
    "plt.savefig('ROC_curve')\n",
    "plt.show()"
   ]
  }
 ],
 "metadata": {
  "kernelspec": {
   "display_name": "Python 3",
   "language": "python",
   "name": "python3"
  },
  "language_info": {
   "codemirror_mode": {
    "name": "ipython",
    "version": 3
   },
   "file_extension": ".py",
   "mimetype": "text/x-python",
   "name": "python",
   "nbconvert_exporter": "python",
   "pygments_lexer": "ipython3",
   "version": "3.6.4"
  }
 },
 "nbformat": 4,
 "nbformat_minor": 2
}
